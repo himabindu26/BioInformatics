{
 "cells": [
  {
   "cell_type": "code",
   "execution_count": 2,
   "id": "e27e1a94",
   "metadata": {},
   "outputs": [
    {
     "data": {
      "image/png": "[encoded data removed]",
      "text/plain": [
       "<Figure size 432x288 with 1 Axes>"
      ]
     },
     "metadata": {
      "needs_background": "light"
     },
     "output_type": "display_data"
    }
   ],
   "source": [
    "import math\n",
    "import numpy as np\n",
    "import pandas as pd\n",
    "np.random.seed(123)\n",
    "\n",
    "#Generating random sample data\n",
    "def circulo(num_datos = 100,R = 1, minimo = 0,maximo= 1, center_x = 0 , center_y = 0):\n",
    "    pi = math.pi\n",
    "    r = R * np.sqrt(np.random.uniform(minimo, maximo, size = num_datos)) \n",
    "    theta = np.random.uniform(minimo, maximo, size= num_datos) * 2 * pi\n",
    "\n",
    "    x = center_x + np.cos(theta) * r\n",
    "    y = center_y + np.sin(theta) * r\n",
    "\n",
    "    x = np.round(x,3)\n",
    "    y = np.round(y,3)\n",
    "\n",
    "    df = np.column_stack([x,y])\n",
    "    df = pd.DataFrame(df)\n",
    "    df.columns = ['x','y']\n",
    "    return(df)\n",
    "\n",
    "# Create data\n",
    "datos_1 = circulo(num_datos = 20,R = 10, center_x = 5, center_y = 30)\n",
    "datos_2 = circulo(num_datos = 20,R = 10, center_x = 20, center_y = 10)\n",
    "datos_3 = circulo(num_datos = 20,R = 10, center_x = 50, center_y = 50)\n",
    "\n",
    "data = datos_1.append(datos_2).append(datos_3)\n",
    "#data1.head()\n",
    "\n",
    "#Plotting the sample data\n",
    "import matplotlib.pyplot as plt\n",
    "%matplotlib inline\n",
    "plt.scatter(datos_1['x'],datos_1['y'],c='b')\n",
    "plt.scatter(datos_2['x'],datos_2['y'],c='g')\n",
    "plt.scatter(datos_3['x'],datos_3['y'],c='r')\n",
    "plt.show()\n",
    "\n"
   ]
  },
  {
   "cell_type": "code",
   "execution_count": 7,
   "id": "a1c0cc63",
   "metadata": {},
   "outputs": [
    {
     "data": {
      "text/html": [
       "<div>\n",
       "<style scoped>\n",
       "    .dataframe tbody tr th:only-of-type {\n",
       "        vertical-align: middle;\n",
       "    }\n",
       "\n",
       "    .dataframe tbody tr th {\n",
       "        vertical-align: top;\n",
       "    }\n",
       "\n",
       "    .dataframe thead th {\n",
       "        text-align: right;\n",
       "    }\n",
       "</style>\n",
       "<table border=\"1\" class=\"dataframe\">\n",
       "  <thead>\n",
       "    <tr style=\"text-align: right;\">\n",
       "      <th></th>\n",
       "      <th>RMSD</th>\n",
       "      <th>F1</th>\n",
       "      <th>F2</th>\n",
       "      <th>F3</th>\n",
       "      <th>F4</th>\n",
       "      <th>F5</th>\n",
       "      <th>F6</th>\n",
       "      <th>F7</th>\n",
       "      <th>F8</th>\n",
       "      <th>F9</th>\n",
       "    </tr>\n",
       "  </thead>\n",
       "  <tbody>\n",
       "    <tr>\n",
       "      <th>0</th>\n",
       "      <td>3.287029e+06</td>\n",
       "      <td>4.738020e+06</td>\n",
       "      <td>5.381841e+06</td>\n",
       "      <td>4.342905e+05</td>\n",
       "      <td>2.343921e+06</td>\n",
       "      <td>1.119261e+06</td>\n",
       "      <td>2.465888e+06</td>\n",
       "      <td>2.997369e+06</td>\n",
       "      <td>5.106848e+05</td>\n",
       "      <td>1.624426e+06</td>\n",
       "    </tr>\n",
       "    <tr>\n",
       "      <th>1</th>\n",
       "      <td>5.075752e+06</td>\n",
       "      <td>3.113595e+06</td>\n",
       "      <td>2.502964e+06</td>\n",
       "      <td>4.123303e+06</td>\n",
       "      <td>4.059478e+06</td>\n",
       "      <td>2.658250e+05</td>\n",
       "      <td>3.878000e+06</td>\n",
       "      <td>4.592349e+06</td>\n",
       "      <td>9.080140e+05</td>\n",
       "      <td>4.273630e+06</td>\n",
       "    </tr>\n",
       "    <tr>\n",
       "      <th>2</th>\n",
       "      <td>1.567932e+06</td>\n",
       "      <td>1.677006e+06</td>\n",
       "      <td>3.640318e+06</td>\n",
       "      <td>6.095392e+05</td>\n",
       "      <td>3.638190e+06</td>\n",
       "      <td>4.858362e+06</td>\n",
       "      <td>3.810223e+06</td>\n",
       "      <td>2.409479e+06</td>\n",
       "      <td>2.397914e+06</td>\n",
       "      <td>4.186615e+06</td>\n",
       "    </tr>\n",
       "  </tbody>\n",
       "</table>\n",
       "</div>"
      ],
      "text/plain": [
       "           RMSD            F1            F2            F3            F4  \\\n",
       "0  3.287029e+06  4.738020e+06  5.381841e+06  4.342905e+05  2.343921e+06   \n",
       "1  5.075752e+06  3.113595e+06  2.502964e+06  4.123303e+06  4.059478e+06   \n",
       "2  1.567932e+06  1.677006e+06  3.640318e+06  6.095392e+05  3.638190e+06   \n",
       "\n",
       "             F5            F6            F7            F8            F9  \n",
       "0  1.119261e+06  2.465888e+06  2.997369e+06  5.106848e+05  1.624426e+06  \n",
       "1  2.658250e+05  3.878000e+06  4.592349e+06  9.080140e+05  4.273630e+06  \n",
       "2  4.858362e+06  3.810223e+06  2.409479e+06  2.397914e+06  4.186615e+06  "
      ]
     },
     "execution_count": 7,
     "metadata": {},
     "output_type": "execute_result"
    }
   ],
   "source": [
    "#Importing the data file\n",
    "gen_data=pd.read_csv('C:\\\\Users\\\\bindu\\\\OneDrive\\\\Documents\\\\BioInformatics\\\\CASP.csv')\n",
    "gen_data.head()\n",
    "\n",
    "\n",
    "def gen_centroids(k, gen_data):\n",
    "\n",
    "    dim = gen_data.shape[1]\n",
    "    centroid_min = gen_data.min().min()\n",
    "    centroid_max = gen_data.max().max()\n",
    "    centroids = []\n",
    "\n",
    "    for i in range(k):\n",
    "        i = np.random.uniform(centroid_min, centroid_max, dim)\n",
    "        centroids.append(i)\n",
    "\n",
    "    centroids = pd.DataFrame(centroids, columns = gen_data.columns)\n",
    "\n",
    "    return centroids\n",
    "\n",
    "centroids = gen_centroids(3, gen_data)\n",
    "centroids\n",
    "\n"
   ]
  },
  {
   "cell_type": "code",
   "execution_count": 8,
   "id": "8c4d53cb",
   "metadata": {},
   "outputs": [
    {
     "data": {
      "image/png": "[encoded data removed]",
      "text/plain": [
       "<Figure size 432x288 with 1 Axes>"
      ]
     },
     "metadata": {
      "needs_background": "light"
     },
     "output_type": "display_data"
    }
   ],
   "source": [
    "def calculate_error(a,b):\n",
    "    #Calculating the sum of squared errors\n",
    "    error = np.square(np.sum((a-b)**2))\n",
    "\n",
    "    return error\n",
    "\n",
    "errors = np.array([])\n",
    "for i in range(centroids.shape[0]):\n",
    "    error = calculate_error(centroids.iloc[i, :2], gen_data.iloc[0,:2])\n",
    "    errors = np.append(errors, error)\n",
    "\n",
    "errors\n",
    "\n",
    "plt.scatter(gen_data.iloc[1:,0], gen_data.iloc[1:,1],  marker = 'o', alpha = 0.2)\n",
    "plt.scatter(centroids.iloc[:,0], centroids.iloc[:,1],  marker = 'o', c = 'r')\n",
    "plt.scatter(gen_data.iloc[0,0], gen_data.iloc[0,1],  marker = 'o', c = 'g')\n",
    "for i in range(centroids.shape[0]):\n",
    "    plt.text(centroids.iloc[i,0]+1, centroids.iloc[i,1]+1, s = centroids.index[i], c = 'r')\n",
    "\n"
   ]
  },
  {
   "cell_type": "code",
   "execution_count": 10,
   "id": "8fc4d10e",
   "metadata": {},
   "outputs": [
    {
     "data": {
      "text/plain": [
       "<matplotlib.collections.PathCollection at 0x1851d9ea130>"
      ]
     },
     "execution_count": 10,
     "metadata": {},
     "output_type": "execute_result"
    },
    {
     "data": {
      "image/png": "[encoded data removed]",
      "text/plain": [
       "<Figure size 432x288 with 1 Axes>"
      ]
     },
     "metadata": {
      "needs_background": "light"
     },
     "output_type": "display_data"
    }
   ],
   "source": [
    "def assign_centroid(gen_data, centroids):\n",
    "    #Assigning datapoints to the centroid\n",
    "\n",
    "    n_ob = gen_data.shape[0]\n",
    "    centroid_assign = []\n",
    "    centroid_errors = []\n",
    "    k = centroids.shape[0]\n",
    "\n",
    "\n",
    "    for i in range(n_ob):\n",
    "\n",
    "        # Calculate the errror\n",
    "        errors = np.array([])\n",
    "        for centroid in range(k):\n",
    "            error = calculate_error(centroids.iloc[centroid, :2], gen_data.iloc[i,:2])\n",
    "            errors = np.append(errors, error)\n",
    "\n",
    "        # Calculate closest centroid & error \n",
    "        closest_centroid =  np.where(errors == np.amin(errors))[0].tolist()[0]\n",
    "        centroid_error = np.amin(errors)\n",
    "\n",
    "        # Assign values to lists\n",
    "        centroid_assign.append(closest_centroid)\n",
    "        centroid_errors.append(centroid_error)\n",
    "\n",
    "    return (centroid_assign,centroid_errors)\n",
    "\n",
    "gen_data['centroid'], gen_data['error'] = assign_centroid(gen_data.iloc[:,:2] ,centroids)\n",
    "gen_data[['centroid', 'error']].head()\n",
    "\n",
    "colors = {0:'red', 1:'blue', 2:'green'}\n",
    "\n",
    "plt.scatter(gen_data.iloc[:,0], gen_data.iloc[:,1],  marker = 'o', c = gen_data['centroid'].apply(lambda x: colors[x]), alpha = 0.5)\n",
    "plt.scatter(centroids.iloc[:,0], centroids.iloc[:,1],  marker = 'o', s=300, \n",
    "           c = centroids.index.map(lambda x: colors[x]))\n",
    "\n",
    "data_columns = ['RMSD','F1','F2','F3','F4','F5','F6','F7','F8','F9']\n",
    "\n",
    "centroids = gen_data.groupby('centroid').agg('mean').loc[:,data_columns].reset_index(drop = True)\n",
    "centroids\n",
    "\n",
    "plt.scatter(gen_data.iloc[:,0], gen_data.iloc[:,1],  marker = 'o', c = gen_data['centroid'].apply(lambda x: colors[x]), alpha = 0.5)\n",
    "plt.scatter(centroids.iloc[:,0], centroids.iloc[:,1],  marker = 'o', s=300, \n",
    "           c = centroids.index.map(lambda x: colors[x]))\n",
    "\n"
   ]
  },
  {
   "cell_type": "code",
   "execution_count": 11,
   "id": "418a978d",
   "metadata": {},
   "outputs": [
    {
     "data": {
      "text/plain": [
       "<matplotlib.collections.PathCollection at 0x1851d9e5fa0>"
      ]
     },
     "execution_count": 11,
     "metadata": {},
     "output_type": "execute_result"
    },
    {
     "data": {
      "image/png": "[encoded data removed]",
      "text/plain": [
       "<Figure size 432x288 with 1 Axes>"
      ]
     },
     "metadata": {
      "needs_background": "light"
     },
     "output_type": "display_data"
    }
   ],
   "source": [
    "def knn(gen_data, k):\n",
    "    \n",
    "    # Initialize centroids and error\n",
    "    centroids = gen_centroids(k, gen_data)\n",
    "    error = []\n",
    "    cond = True\n",
    "    i = 0\n",
    "\n",
    "    while(cond):\n",
    "        # Obtain centroids and error\n",
    "        gen_data['centroid'], iter_error = assign_centroid(gen_data,centroids)\n",
    "        error.append(sum(iter_error))\n",
    "        # Recalculate centroids\n",
    "        centroids = gen_data.groupby('centroid').agg('mean').reset_index(drop = True)\n",
    "\n",
    "        # Check if the error has decreased\n",
    "        if(len(error)<2):\n",
    "            cond = True\n",
    "        else:\n",
    "            if(round(error[i],3) !=  round(error[i-1],3)):\n",
    "                cond = True\n",
    "            else:\n",
    "                cond = False\n",
    "        i = i + 1 \n",
    "\n",
    "    gen_data['centroid'], iter_error = assign_centroid(gen_data,centroids)\n",
    "    centroids = gen_data.groupby('centroid').agg('mean').reset_index(drop = True)\n",
    "    return (gen_data['centroid'], iter_error, centroids)\n",
    "\n",
    "gen_data['centroid'], _, centroids =  knn(gen_data.drop(['centroid','error'], axis = 1),3)\n",
    "gen_data['centroid'].head()\n",
    "\n",
    "plt.scatter(gen_data.iloc[:,0], gen_data.iloc[:,1],  marker = 'o', c = gen_data['centroid'].apply(lambda x: colors[x]), alpha = 0.5)\n",
    "plt.scatter(centroids.iloc[:,0], centroids.iloc[:,1],  marker = 'o', s=300, \n",
    "           c = centroids.index.map(lambda x: colors[x]))\n",
    "\n"
   ]
  },
  {
   "cell_type": "code",
   "execution_count": null,
   "id": "f8a97614",
   "metadata": {},
   "outputs": [],
   "source": []
  }
 ],
 "metadata": {
  "kernelspec": {
   "display_name": "Python 3",
   "language": "python",
   "name": "python3"
  },
  "language_info": {
   "codemirror_mode": {
    "name": "ipython",
    "version": 3
   },
   "file_extension": ".py",
   "mimetype": "text/x-python",
   "name": "python",
   "nbconvert_exporter": "python",
   "pygments_lexer": "ipython3",
   "version": "3.8.8"
  }
 },
 "nbformat": 4,
 "nbformat_minor": 5
}
